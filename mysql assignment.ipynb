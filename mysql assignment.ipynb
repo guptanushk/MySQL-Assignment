{
 "cells": [
  {
   "cell_type": "markdown",
   "id": "253b78aa-f7a4-475e-9a1b-dc7adf79212e",
   "metadata": {},
   "source": [
    "Q1. What is a database? Differentiate between SQL and NoSQL databases."
   ]
  },
  {
   "cell_type": "markdown",
   "id": "4f4de6ab-43dc-4194-9ec8-14e7f10e105f",
   "metadata": {},
   "source": [
    "Answer : A database is an organized collection of structured information, or data, typically stored electronically in a computer system. A database is usually controlled by a database management system (DBMS).\n",
    "\n",
    "Difference between SQL and NoSQL :-\n",
    "\n",
    "SQL databases are vertically scalable, while NoSQL databases are horizontally scalable. SQL databases are table-based, while NoSQL databases are document, key-value, graph, or wide-column stores. SQL databases are better for multi-row transactions, while NoSQL is better for unstructured data like documents or JSON."
   ]
  },
  {
   "cell_type": "markdown",
   "id": "2e2410f6-60da-44a2-81fe-9f2a5c15fc51",
   "metadata": {},
   "source": [
    "Q2. What is DDL? Explain why CREATE, DROP, ALTER, and TRUNCATE are used with an example."
   ]
  },
  {
   "cell_type": "markdown",
   "id": "723f3aab-ea43-48c7-ba73-8372b749d9d5",
   "metadata": {},
   "source": [
    "Answer : Data Definition Language(DDL) is a subset of SQL and a part of DBMS(Database Management System). DDL consist of Commands to commands like CREATE, ALTER, TRUNCATE and DROP. These commands are used to create or modify the tables in SQL.\n",
    "\n",
    "DDL commands :\n",
    "1.CREATE : This command is used to create a new table in SQL. The user has to give information like table name, column names, and their datatypes.\n",
    "\n",
    "2.ALTER : This command is used to add, delete or change columns in the existing table. The user needs to know the existing table name and can do add, delete or modify tasks easily.\n",
    "\n",
    "3.DROP : This command is used to remove an existing table along with its structure from the Database.\n",
    "\n",
    "4.TRUNCATE : This command is used to remove all rows from the table, but the structure of the table still exists."
   ]
  },
  {
   "cell_type": "markdown",
   "id": "0e1007cc-849b-4379-b2ee-5a84f07444c1",
   "metadata": {},
   "source": [
    "Q3. What is DML? Explain INSERT, UPDATE, and DELETE with an example."
   ]
  },
  {
   "cell_type": "markdown",
   "id": "89881edf-9b67-4122-b286-5be0ecdf0ca0",
   "metadata": {},
   "source": [
    "Answer : A DML (data manipulation language) refers to a computer programming language that allows you to add (insert), delete (delete), and alter (update) data in a database. A DML is typically a sublanguage of a larger database language like SQL, with the DML containing some of the language's operators.\n",
    "\n",
    "INSERT − Insert data into a table.\n",
    "\n",
    "\n",
    "UPDATE − Update existing data within a table.\n",
    "\n",
    "\n",
    "DELETE − Delete records from a database table.\n"
   ]
  },
  {
   "cell_type": "markdown",
   "id": "6bf7fe12-9ef7-4c14-a1e4-400cd532fad9",
   "metadata": {},
   "source": [
    "Q4. What is DQL? Explain SELECT with an example."
   ]
  },
  {
   "cell_type": "markdown",
   "id": "a9226718-eebf-489f-b7ba-d60c45c7eb7c",
   "metadata": {},
   "source": [
    "Answer : DQL or data query language is to perform the query on the data inside the schema or object (ie table, index, view, function, etc). With the help of a DQL query, we can get the data from the database to perform actions or operations like analyzing the data.\n",
    "\n",
    "SELECT : This command is used to extract data from a database."
   ]
  },
  {
   "cell_type": "markdown",
   "id": "d1a113ea-8a81-4e82-a0c4-04b603f9db41",
   "metadata": {},
   "source": [
    "Q5. Explain Primary Key and Foreign Key."
   ]
  },
  {
   "cell_type": "markdown",
   "id": "5c3d711e-4417-4da3-9f47-8546f05a8da2",
   "metadata": {},
   "source": [
    "Answer : A relational database is designed to enforce the uniqueness of primary keys by allowing only one row with a given primary key value in a table. A foreign key is a column or a set of columns in a table whose values correspond to the values of the primary key in another table.\n"
   ]
  },
  {
   "cell_type": "markdown",
   "id": "88513561-f010-46eb-a048-6b763eeca8f0",
   "metadata": {},
   "source": [
    "Q6. Write a python code to connect MySQL to python. Explain the cursor() and execute() method."
   ]
  },
  {
   "cell_type": "markdown",
   "id": "2781bda6-df14-4f4b-afd1-3331700e1efb",
   "metadata": {},
   "source": [
    "Answer : "
   ]
  },
  {
   "cell_type": "code",
   "execution_count": 3,
   "id": "946ffa76-5f19-46ff-9b68-2943e06b01c0",
   "metadata": {},
   "outputs": [],
   "source": [
    "#import mysql.connector\n",
    "#mydb = mysql.connector.connect(\n",
    "#  host=\"localhost\",\n",
    "#  user=\"abc\",\n",
    "#  password=\"password\"\n",
    "#)"
   ]
  },
  {
   "cell_type": "markdown",
   "id": "5220fdcb-824b-4197-9cd3-7f1f4eb5e7ab",
   "metadata": {},
   "source": [
    "A cursor is an object which helps to execute the query and fetch the records from the database. The cursor plays a very important role in executing the query.\n",
    "\n",
    "Execute() is completely non-standard; it's not mentioned in PEP-249 at all. You shouldn't use it. The point of a cursor is that there is some cost associated with preparing a statement."
   ]
  },
  {
   "cell_type": "code",
   "execution_count": null,
   "id": "0e6f8835-2a05-4dd5-bb09-d4c28bf35933",
   "metadata": {},
   "outputs": [],
   "source": []
  }
 ],
 "metadata": {
  "kernelspec": {
   "display_name": "Python 3 (ipykernel)",
   "language": "python",
   "name": "python3"
  },
  "language_info": {
   "codemirror_mode": {
    "name": "ipython",
    "version": 3
   },
   "file_extension": ".py",
   "mimetype": "text/x-python",
   "name": "python",
   "nbconvert_exporter": "python",
   "pygments_lexer": "ipython3",
   "version": "3.10.8"
  }
 },
 "nbformat": 4,
 "nbformat_minor": 5
}
